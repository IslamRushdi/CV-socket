{
 "cells": [
  {
   "cell_type": "code",
   "execution_count": 2,
   "metadata": {},
   "outputs": [],
   "source": [
    "from io import BytesIO\n",
    "from PIL import Image\n",
    "import numpy as np\n",
    "from paddleocr import PaddleOCR\n",
    "from b64 import base64_pil,image_to_base64\n",
    "import base64"
   ]
  },
  {
   "cell_type": "code",
   "execution_count": 3,
   "metadata": {},
   "outputs": [
    {
     "name": "stdout",
     "output_type": "stream",
     "text": [
      "[2022/03/19 23:54:08] root WARNING: lang en is not support in PP-OCRv2, auto switch to version PP-OCR\n",
      "[2022/03/19 23:54:08] root WARNING: lang en is not support in PP-OCRv2, auto switch to version PP-OCR\n",
      "[2022/03/19 23:54:08] root WARNING: version PP-OCRv2 not support cls models, auto switch to version PP-OCR\n",
      "Namespace(help='==SUPPRESS==', use_gpu=False, ir_optim=True, use_tensorrt=False, min_subgraph_size=15, precision='fp32', gpu_mem=500, image_dir=None, det_algorithm='DB', det_model_dir='C:\\\\Users\\\\Ahmed/.paddleocr/2.3.0.2\\\\ocr\\\\det\\\\en\\\\en_ppocr_mobile_v2.0_det_infer', det_limit_side_len=960, det_limit_type='max', det_db_thresh=0.3, det_db_box_thresh=0.6, det_db_unclip_ratio=1.5, max_batch_size=10, use_dilation=False, det_db_score_mode='fast', det_east_score_thresh=0.8, det_east_cover_thresh=0.1, det_east_nms_thresh=0.2, det_sast_score_thresh=0.5, det_sast_nms_thresh=0.2, det_sast_polygon=False, det_pse_thresh=0, det_pse_box_thresh=0.85, det_pse_min_area=16, det_pse_box_type='box', det_pse_scale=1, rec_algorithm='CRNN', rec_model_dir='C:\\\\Users\\\\Ahmed/.paddleocr/2.3.0.2\\\\ocr\\\\rec\\\\en\\\\en_number_mobile_v2.0_rec_infer', rec_image_shape='3, 32, 320', rec_batch_num=6, max_text_length=25, rec_char_dict_path='C:\\\\Users\\\\Ahmed\\\\AppData\\\\Local\\\\Programs\\\\Python\\\\Python39\\\\lib\\\\site-packages\\\\paddleocr\\\\ppocr\\\\utils\\\\en_dict.txt', use_space_char=True, vis_font_path='./doc/fonts/simfang.ttf', drop_score=0.5, e2e_algorithm='PGNet', e2e_model_dir=None, e2e_limit_side_len=768, e2e_limit_type='max', e2e_pgnet_score_thresh=0.5, e2e_char_dict_path='./ppocr/utils/ic15_dict.txt', e2e_pgnet_valid_set='totaltext', e2e_pgnet_polygon=True, e2e_pgnet_mode='fast', use_angle_cls=True, cls_model_dir='C:\\\\Users\\\\Ahmed/.paddleocr/2.3.0.2\\\\ocr\\\\cls\\\\ch_ppocr_mobile_v2.0_cls_infer', cls_image_shape='3, 48, 192', label_list=['0', '180'], cls_batch_num=6, cls_thresh=0.9, enable_mkldnn=False, cpu_threads=10, use_pdserving=False, warmup=True, use_mp=False, total_process_num=1, process_id=0, benchmark=False, save_log_path='./log_output/', show_log=True, use_onnx=False, output='./output/table', table_max_len=488, table_model_dir=None, table_char_type='en', table_char_dict_path=None, layout_path_model='lp://PubLayNet/ppyolov2_r50vd_dcn_365e_publaynet/config', lang='en', det=True, rec=True, type='ocr', ocr_version='PP-OCRv2', structure_version='STRUCTURE')\n"
     ]
    }
   ],
   "source": [
    "ocr = PaddleOCR(use_angle_cls=True, lang='en') # need to run only once to download and load model into memory"
   ]
  },
  {
   "cell_type": "code",
   "execution_count": 16,
   "metadata": {},
   "outputs": [],
   "source": [
    "def recognize(img_base64):\n",
    "    image = base64_pil(img_base64)\n",
    "    image = np.array(image.convert('RGB'))\n",
    "\n",
    "    result = ocr.ocr(image, cls=True)\n",
    "    # for line in result:\n",
    "    #   print(line)\n",
    "\n",
    "    image = Image.open(BytesIO(base64.b64decode(img_base64)))\n",
    "    boxes = [line[0] for line in result]\n",
    "    txts = [line[1][0] for line in result]\n",
    "    scores = [line[1][1] for line in result]\n",
    "\n",
    "    return \"\\n\".join(txts)"
   ]
  },
  {
   "cell_type": "code",
   "execution_count": 17,
   "metadata": {},
   "outputs": [
    {
     "name": "stdout",
     "output_type": "stream",
     "text": [
      "[2022/03/20 00:01:41] PIL.TiffImagePlugin DEBUG: tag: Orientation (274) - type: short (3) - value: b'\\x00\\x06'\n",
      "[2022/03/20 00:01:42] root DEBUG: dt_boxes num : 9, elapse : 0.5369973182678223\n",
      "[2022/03/20 00:01:42] root DEBUG: cls num  : 9, elapse : 0.13200044631958008\n",
      "[2022/03/20 00:01:43] root DEBUG: rec_res num  : 9, elapse : 0.311002254486084\n",
      "[2022/03/20 00:01:43] PIL.TiffImagePlugin DEBUG: tag: Orientation (274) - type: short (3) - value: b'\\x00\\x06'\n",
      "English Crammar\n",
      "InUse\n",
      "self studureference\n",
      "andpracticebook for\n",
      "intermediatestudents\n",
      "Raymond Murphy\n",
      "WITH\n",
      "ANSWErS\n",
      "EDITION\n"
     ]
    }
   ],
   "source": [
    "img_path = 'imgs_en/ascsac.jpg'\n",
    "img= image_to_base64(img_path)\n",
    "recognize(img)"
   ]
  }
 ],
 "metadata": {
  "interpreter": {
   "hash": "2ec163547bd57035bf535b55cbc2a1df6cc0785fa82fcf1e36c1bf4848876da5"
  },
  "kernelspec": {
   "display_name": "Python 3.9.0 64-bit",
   "language": "python",
   "name": "python3"
  },
  "language_info": {
   "codemirror_mode": {
    "name": "ipython",
    "version": 3
   },
   "file_extension": ".py",
   "mimetype": "text/x-python",
   "name": "python",
   "nbconvert_exporter": "python",
   "pygments_lexer": "ipython3",
   "version": "3.9.0"
  },
  "orig_nbformat": 4
 },
 "nbformat": 4,
 "nbformat_minor": 2
}
